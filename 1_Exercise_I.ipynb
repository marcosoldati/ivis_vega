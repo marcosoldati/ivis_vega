{
 "cells": [
  {
   "cell_type": "code",
   "execution_count": 3,
   "metadata": {},
   "outputs": [
    {
     "ename": "ModuleNotFoundError",
     "evalue": "No module named 'vega'",
     "output_type": "error",
     "traceback": [
      "\u001b[0;31m---------------------------------------------------------------------------\u001b[0m",
      "\u001b[0;31mModuleNotFoundError\u001b[0m                       Traceback (most recent call last)",
      "\u001b[0;32m<ipython-input-3-3b456dc3bf07>\u001b[0m in \u001b[0;36m<module>\u001b[0;34m\u001b[0m\n\u001b[1;32m      1\u001b[0m \u001b[0;31m## for Jupyter Notebook remove the # from the following line and add # in front of all subsequent lines in this cell\u001b[0m\u001b[0;34m\u001b[0m\u001b[0;34m\u001b[0m\u001b[0;34m\u001b[0m\u001b[0m\n\u001b[0;32m----> 2\u001b[0;31m \u001b[0;32mfrom\u001b[0m \u001b[0mvega\u001b[0m \u001b[0;32mimport\u001b[0m \u001b[0mVegaLite\u001b[0m\u001b[0;34m\u001b[0m\u001b[0;34m\u001b[0m\u001b[0m\n\u001b[0m\u001b[1;32m      3\u001b[0m \u001b[0;34m\u001b[0m\u001b[0m\n\u001b[1;32m      4\u001b[0m \u001b[0;31m## For JupyterLab uncomment the following lines\u001b[0m\u001b[0;34m\u001b[0m\u001b[0;34m\u001b[0m\u001b[0;34m\u001b[0m\u001b[0m\n\u001b[1;32m      5\u001b[0m \u001b[0;31m#from IPython.display import display\u001b[0m\u001b[0;34m\u001b[0m\u001b[0;34m\u001b[0m\u001b[0;34m\u001b[0m\u001b[0m\n",
      "\u001b[0;31mModuleNotFoundError\u001b[0m: No module named 'vega'"
     ]
    }
   ],
   "source": [
    "## for Jupyter Notebook remove the # from the following line and add # in front of all subsequent lines in this cell\n",
    "from vega import VegaLite \n",
    "\n",
    "## For JupyterLab uncomment the following lines\n",
    "#from IPython.display import display\n",
    "#def VegaLite(spec):\n",
    "#    bundle = {}\n",
    "#    bundle['application/vnd.vegalite.v3+json'] = spec\n",
    "#    display(bundle, raw=True)"
   ]
  },
  {
   "cell_type": "markdown",
   "metadata": {},
   "source": [
    "# Datenvisualisierung mit der Grammar of Graphics\n",
    "Am Beispiel von Vega-Lite\n",
    "\n",
    "![](structure.png)\n",
    "\n",
    "Dokumentation:\n",
    "\n",
    "https://vega.github.io/vega-lite/docs/\n",
    "\n",
    "Beispiele:\n",
    "\n",
    "https://vega.github.io/vega-lite/examples/\n",
    "\n",
    "Quellen:\n",
    "\n",
    "* https://www.kaggle.com/the-guardian/olympic-games/version/1#winter.csv\n",
    "* http://www.espn.com/espn/page2/sportSkills\n",
    "\n",
    "Autoren: \n",
    "\n",
    "* Jonas Oesch\n",
    "* Marco Soldati"
   ]
  },
  {
   "cell_type": "markdown",
   "metadata": {},
   "source": [
    "## 0. Daten anschauen\n",
    "\n",
    "Sie verwenden in allen Übungen den gleichen Datensatz. Es sind die Medaillengewinner der Olympischen Spiele mit verschiedenen Attributen wie Land, Sport, wieviel Stärke oder Ausdauer die Sportart benötigt oder welches Geschlecht der Medaillengewinner resp. die -gewinnerin hat.\n",
    "\n",
    "Laden Sie als erstes die Daten herunter und machen Sie sich mit dem Datensatz vertraut:\n",
    "\n",
    "* https://gist.github.com/marcosoldati/37b652aff7476c6ab77f16f4f808b243"
   ]
  },
  {
   "cell_type": "markdown",
   "metadata": {},
   "source": [
    "## 1. Olympische Spiele\n",
    "\n",
    "Visualisieren Sie, die Jahre in denen Olympische Spiele stattgefunden haben. Machen Sie sich gut mit der Struktur vertraut, die genutzt wird, um die Visualisierung zu definiern. Sie ist die Basis für alle folgenden Übungen.\n",
    "\n",
    "Im `encoding`-Teil wird definiert, welche Daten aus der Tabelle in welchem Channel/Encoding dargestellt werden. Wir beschränken uns am Anfang auf eine x-Achse. (die Liste mit allen möglichen Channeln/Encodings: https://vega.github.io/vega-lite/docs/encoding.html)\n",
    "\n",
    "`type` entspricht den Attribut-Typen aus der Theorie. In Vega-Lite sind folgende möglich:\n",
    "\n",
    "* `nominal`\n",
    "* `ordinal`\n",
    "* `quantitative`\n",
    "\n",
    "Ausserdem biete Vega-Lite noch `temporal` für Zeitreihen.\n",
    "(Dokumentation: https://vega.github.io/vega-lite/docs/type.html)"
   ]
  },
  {
   "cell_type": "code",
   "execution_count": 1,
   "metadata": {},
   "outputs": [
    {
     "ename": "NameError",
     "evalue": "name 'VegaLite' is not defined",
     "output_type": "error",
     "traceback": [
      "\u001b[0;31m---------------------------------------------------------------------------\u001b[0m",
      "\u001b[0;31mNameError\u001b[0m                                 Traceback (most recent call last)",
      "\u001b[0;32m<ipython-input-1-7b8f61f6f168>\u001b[0m in \u001b[0;36m<module>\u001b[0;34m\u001b[0m\n\u001b[0;32m----> 1\u001b[0;31m VegaLite({\n\u001b[0m\u001b[1;32m      2\u001b[0m     \"data\": {\n\u001b[1;32m      3\u001b[0m         \u001b[0;34m\"url\"\u001b[0m\u001b[0;34m:\u001b[0m \u001b[0;34m\"https://gist.githubusercontent.com/marcosoldati/37b652aff7476c6ab77f16f4f808b243/raw/6c2125013811db238170f5dc0d728e858e40989d/olympics.csv\"\u001b[0m\u001b[0;34m\u001b[0m\u001b[0;34m\u001b[0m\u001b[0m\n\u001b[1;32m      4\u001b[0m     },\n\u001b[1;32m      5\u001b[0m     \u001b[0;34m\"mark\"\u001b[0m\u001b[0;34m:\u001b[0m \u001b[0;34m\"tick\"\u001b[0m\u001b[0;34m,\u001b[0m\u001b[0;34m\u001b[0m\u001b[0;34m\u001b[0m\u001b[0m\n",
      "\u001b[0;31mNameError\u001b[0m: name 'VegaLite' is not defined"
     ]
    }
   ],
   "source": [
    "VegaLite({\n",
    "    \"data\": {\n",
    "        \"url\": \"https://gist.githubusercontent.com/marcosoldati/37b652aff7476c6ab77f16f4f808b243/raw/6c2125013811db238170f5dc0d728e858e40989d/olympics.csv\"\n",
    "    },\n",
    "    \"mark\": \"tick\",\n",
    "    \"encoding\": {      \n",
    "        \"x\": {\n",
    "            \"field\": \"Year\",\n",
    "            \"type\": \"temporal\",\n",
    "        }\n",
    "    }\n",
    "})"
   ]
  },
  {
   "cell_type": "markdown",
   "metadata": {},
   "source": [
    "## 2. Sommer- und Winterspiele\n",
    "\n",
    "Unterscheiden Sie zwischen Sommer- und Winterspielen im Farb-Channel. Das entsprechende Feld heisst `Season`."
   ]
  },
  {
   "cell_type": "code",
   "execution_count": null,
   "metadata": {},
   "outputs": [],
   "source": [
    "VegaLite({\n",
    "    \"data\": {\n",
    "        \"url\": \"https://gist.githubusercontent.com/marcosoldati/37b652aff7476c6ab77f16f4f808b243/raw/6c2125013811db238170f5dc0d728e858e40989d/olympics.csv\"\n",
    "    },\n",
    "    \"mark\": \"tick\",\n",
    "    \"encoding\": {      \n",
    "        \"x\": {\n",
    "            \"field\": \"Year\",\n",
    "            \"type\": \"temporal\",\n",
    "        },\n",
    "        \"color\": {\n",
    "            \"field\": \"Season\", # <= richtiges Feld einsetzen\n",
    "            \"type\": \"nominal\"\n",
    "        }\n",
    "    }\n",
    "})"
   ]
  },
  {
   "cell_type": "markdown",
   "metadata": {},
   "source": [
    "## 3. Makeover\n",
    "\n",
    "Wie Sie vielleicht vermuten, verdecken nun die Winterspiele zwischen 1924 und 1990 die Sommerspiele. Machen Sie beide sichtbar, indem Sie Sommer- und Winterspiele auf der Y-Achse neu positionieren. Dazu verwenden sie im `encoding`-Teil einen neuen Channel `y` und füllen diesen analog zu `x` und `color` aus."
   ]
  },
  {
   "cell_type": "code",
   "execution_count": null,
   "metadata": {},
   "outputs": [],
   "source": [
    "VegaLite({\n",
    "    \"data\": {\n",
    "        \"url\": \"https://gist.githubusercontent.com/marcosoldati/37b652aff7476c6ab77f16f4f808b243/raw/6c2125013811db238170f5dc0d728e858e40989d/olympics.csv\"\n",
    "    },\n",
    "    \"mark\": \"tick\",\n",
    "    \"encoding\": {      \n",
    "        \"x\": {\n",
    "            \"field\": \"Year\",\n",
    "            \"type\": \"temporal\",\n",
    "        },\n",
    "        \"color\": {\n",
    "            \"field\": \"Season\",\n",
    "            \"type\": \"nominal\"\n",
    "        },\n",
    "        # <= Y-Achse definieren\n",
    "    }\n",
    "})"
   ]
  },
  {
   "cell_type": "markdown",
   "metadata": {},
   "source": [
    "## 4. Medaillen\n",
    "\n",
    "Es ist an der Zeit einen neuen Chart-Typen auszuprobieren: den *Bar-Chart*. Dazu setzen Sie `mark` auf `bar`. Um etwas zu erhalten, dass sich auf der Y-Achse darstellen lässt, zählen Sie die Einträge pro Jahr. Eine Datentransformation also. Ein Beispiel wie das gemacht wird, finden Sie hier: https://vega.github.io/vega-lite/examples/histogram.html\n",
    "\n",
    "Beachten Sie auch die angepasste Breite mit dem `width`-Eintrag. Analog gibt es natürlich auch einen `height`-Eintrag: https://vega.github.io/vega-lite/docs/spec.html#single"
   ]
  },
  {
   "cell_type": "code",
   "execution_count": null,
   "metadata": {},
   "outputs": [],
   "source": [
    "VegaLite({\n",
    "    \"data\": {\n",
    "        \"url\": \"https://gist.githubusercontent.com/marcosoldati/37b652aff7476c6ab77f16f4f808b243/raw/6c2125013811db238170f5dc0d728e858e40989d/olympics.csv\"\n",
    "    },\n",
    "    \"mark\": \"\", # <= Charttyp\n",
    "    \"width\": 700,\n",
    "    \"encoding\": {\n",
    "        \"x\": {\n",
    "            \"field\": \"Year\",\n",
    "            \"type\": \"temporal\",\n",
    "        },\n",
    "        \"y\": {\n",
    "            # <= Zählen Sie die Einträge\n",
    "            \"type\": \"quantitative\"\n",
    "        }\n",
    "    }\n",
    "})"
   ]
  },
  {
   "cell_type": "code",
   "execution_count": null,
   "metadata": {},
   "outputs": [],
   "source": []
  }
 ],
 "metadata": {
  "kernelspec": {
   "display_name": "Python 3",
   "language": "python",
   "name": "python3"
  },
  "language_info": {
   "codemirror_mode": {
    "name": "ipython",
    "version": 3
   },
   "file_extension": ".py",
   "mimetype": "text/x-python",
   "name": "python",
   "nbconvert_exporter": "python",
   "pygments_lexer": "ipython3",
   "version": "3.8.3"
  }
 },
 "nbformat": 4,
 "nbformat_minor": 4
}
