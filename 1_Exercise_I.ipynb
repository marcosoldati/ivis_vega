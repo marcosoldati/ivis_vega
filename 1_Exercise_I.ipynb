{
 "cells": [
  {
   "cell_type": "code",
   "execution_count": null,
   "metadata": {},
   "outputs": [],
   "source": [
    "import altair as alt"
   ]
  },
  {
   "cell_type": "markdown",
   "metadata": {},
   "source": [
    "# Datenvisualisierung mit der Grammar of Graphics\n",
    "Am Beispiel von Vega-Lite\n",
    "\n",
    "![](structure.png)\n",
    "\n",
    "Dokumentation:\n",
    "\n",
    "https://vega.github.io/vega-lite/docs/\n",
    "\n",
    "Beispiele:\n",
    "\n",
    "https://vega.github.io/vega-lite/examples/\n",
    "\n",
    "Quellen:\n",
    "\n",
    "* https://www.kaggle.com/the-guardian/olympic-games/version/1#winter.csv\n",
    "* http://www.espn.com/espn/page2/sportSkills\n",
    "\n",
    "Autoren: \n",
    "\n",
    "* Jonas Oesch\n",
    "* Marco Soldati"
   ]
  },
  {
   "cell_type": "markdown",
   "metadata": {},
   "source": [
    "## 0. Daten anschauen\n",
    "\n",
    "Sie verwenden in allen Übungen den gleichen Datensatz. Es sind die Medaillengewinner der Olympischen Spiele mit verschiedenen Attributen wie Land, Sport, wieviel Stärke oder Ausdauer die Sportart benötigt oder welches Geschlecht der Medaillengewinner resp. die -gewinnerin hat.\n",
    "\n",
    "Laden Sie als erstes die Daten herunter und machen Sie sich mit dem Datensatz vertraut:\n",
    "\n",
    "* https://gist.github.com/marcosoldati/37b652aff7476c6ab77f16f4f808b243"
   ]
  },
  {
   "cell_type": "markdown",
   "metadata": {},
   "source": [
    "## 1. Olympische Spiele\n",
    "\n",
    "Visualisieren Sie, die Jahre in denen Olympische Spiele stattgefunden haben. Machen Sie sich gut mit der Struktur vertraut, die genutzt wird, um die Visualisierung zu definiern. Sie ist die Basis für alle folgenden Übungen.\n",
    "\n",
    "Im `encoding`-Teil wird definiert, welche Daten aus der Tabelle in welchem Channel/Encoding dargestellt werden. Wir beschränken uns am Anfang auf eine x-Achse. (die Liste mit allen möglichen Channeln/Encodings: https://vega.github.io/vega-lite/docs/encoding.html)\n",
    "\n",
    "`type` entspricht den Attribut-Typen aus der Theorie. In Vega-Lite sind folgende möglich:\n",
    "\n",
    "* `nominal`\n",
    "* `ordinal`\n",
    "* `quantitative`\n",
    "\n",
    "Ausserdem biete Vega-Lite noch `temporal` für Zeitreihen.\n",
    "(Dokumentation: https://vega.github.io/vega-lite/docs/type.html)"
   ]
  },
  {
   "cell_type": "code",
   "execution_count": null,
   "metadata": {},
   "outputs": [],
   "source": [
    "alt.Chart.from_dict({\n",
    "    \"$schema\": \"https://vega.github.io/schema/vega-lite/v4.json\",\n",
    "    \"data\": {\n",
    "        \"url\": \"https://gist.githubusercontent.com/marcosoldati/37b652aff7476c6ab77f16f4f808b243/raw/6c2125013811db238170f5dc0d728e858e40989d/olympics.csv\"\n",
    "    },\n",
    "    \"mark\": \"tick\",\n",
    "    \"encoding\": {      \n",
    "        \"x\": {\n",
    "            \"field\": \"Year\",\n",
    "            \"type\": \"temporal\",\n",
    "        }\n",
    "    }\n",
    "})"
   ]
  },
  {
   "cell_type": "markdown",
   "metadata": {},
   "source": [
    "## 2. Sommer- und Winterspiele\n",
    "\n",
    "Unterscheiden Sie zwischen Sommer- und Winterspielen im Farb-Channel. Das entsprechende Feld heisst `Season`."
   ]
  },
  {
   "cell_type": "code",
   "execution_count": null,
   "metadata": {},
   "outputs": [],
   "source": [
    "alt.Chart.from_dict({\n",
    "    \"$schema\": \"https://vega.github.io/schema/vega-lite/v4.json\",\n",
    "    \"data\": {\n",
    "        \"url\": \"https://gist.githubusercontent.com/marcosoldati/37b652aff7476c6ab77f16f4f808b243/raw/6c2125013811db238170f5dc0d728e858e40989d/olympics.csv\"\n",
    "    },\n",
    "    \"mark\": \"tick\",\n",
    "    \"encoding\": {      \n",
    "        \"x\": {\n",
    "            \"field\": \"Year\",\n",
    "            \"type\": \"temporal\",\n",
    "        },\n",
    "        \"color\": {\n",
    "            \"field\": \"\", # <= richtiges Feld einsetzen\n",
    "            \"type\": \"nominal\"\n",
    "        }\n",
    "    }\n",
    "})"
   ]
  },
  {
   "cell_type": "markdown",
   "metadata": {},
   "source": [
    "## 3. Makeover\n",
    "\n",
    "Wie Sie vielleicht vermuten, verdecken nun die Winterspiele zwischen 1924 und 1990 die Sommerspiele. Machen Sie beide sichtbar, indem Sie Sommer- und Winterspiele auf der Y-Achse neu positionieren. Dazu verwenden sie im `encoding`-Teil einen neuen Channel `y` und füllen diesen analog zu `x` und `color` aus."
   ]
  },
  {
   "cell_type": "code",
   "execution_count": null,
   "metadata": {},
   "outputs": [],
   "source": [
    "alt.Chart.from_dict({\n",
    "    \"$schema\": \"https://vega.github.io/schema/vega-lite/v4.json\",\n",
    "    \"data\": {\n",
    "        \"url\": \"https://gist.githubusercontent.com/marcosoldati/37b652aff7476c6ab77f16f4f808b243/raw/6c2125013811db238170f5dc0d728e858e40989d/olympics.csv\"\n",
    "    },\n",
    "    \"mark\": \"tick\",\n",
    "    \"encoding\": {      \n",
    "        \"x\": {\n",
    "            \"field\": \"Year\",\n",
    "            \"type\": \"temporal\",\n",
    "        },\n",
    "        \"color\": {\n",
    "            \"field\": \"Season\",\n",
    "            \"type\": \"nominal\"\n",
    "        },\n",
    "        # <= Y-Achse definieren\n",
    "    }\n",
    "})"
   ]
  },
  {
   "cell_type": "markdown",
   "metadata": {},
   "source": [
    "## 4. Medaillen\n",
    "\n",
    "Es ist an der Zeit einen neuen Chart-Typen auszuprobieren: den *Bar-Chart*. Dazu setzen Sie `mark` auf `bar`. Um etwas zu erhalten, dass sich auf der Y-Achse darstellen lässt, zählen Sie die Einträge pro Jahr. Eine Datentransformation also. Ein Beispiel wie das gemacht wird, finden Sie hier: https://vega.github.io/vega-lite/examples/histogram.html\n",
    "\n",
    "Beachten Sie auch die angepasste Breite mit dem `width`-Eintrag. Analog gibt es natürlich auch einen `height`-Eintrag: https://vega.github.io/vega-lite/docs/spec.html#single"
   ]
  },
  {
   "cell_type": "code",
   "execution_count": null,
   "metadata": {},
   "outputs": [],
   "source": [
    "alt.Chart.from_dict({\n",
    "    \"$schema\": \"https://vega.github.io/schema/vega-lite/v4.json\",\n",
    "    \"data\": {\n",
    "        \"url\": \"https://gist.githubusercontent.com/marcosoldati/37b652aff7476c6ab77f16f4f808b243/raw/6c2125013811db238170f5dc0d728e858e40989d/olympics.csv\"\n",
    "    },\n",
    "    \"mark\": \"\", # <= Charttyp\n",
    "    \"width\": 700,\n",
    "    \"encoding\": {\n",
    "        \"x\": {\n",
    "            \"field\": \"Year\",\n",
    "            \"type\": \"temporal\",\n",
    "        },\n",
    "        \"y\": {\n",
    "            # <= Zählen Sie die Einträge\n",
    "            \"type\": \"quantitative\"\n",
    "        }\n",
    "    }\n",
    "})"
   ]
  },
  {
   "cell_type": "markdown",
   "metadata": {},
   "source": [
    "## Tipp für Fortgeschrittene\n",
    "\n",
    "Anstatt einen Plot in JSON, also deskriptiv, zu beschreiben, bietet Altair auch eine Syntax, um den Plot durch Python-Code, also deklarativ, zu definieren. Für dieses Tutorial verwenden wir die deskritptive Variante, um nicht noch eine zusätzliche Komplexitätsebene mit einer weiteren Bilbiothek (nämlich Altair) hinzuzufügen. Falls sie bereits über gute Programmiererfahrung verfügen, ist es aber durchaus nützlich, die Übungen in Altair zu lösen. Folgendes Beispiel zeigt exemplarisch, wie das geht.\n"
   ]
  },
  {
   "cell_type": "code",
   "execution_count": null,
   "metadata": {},
   "outputs": [],
   "source": [
    "# Freiwillliges Beispiel der Aufgabe 4 mit Altair\n",
    "# a) in der langen Form\n",
    "alt.Chart(\"https://gist.githubusercontent.com/marcosoldati/37b652aff7476c6ab77f16f4f808b243/raw/6c2125013811db238170f5dc0d728e858e40989d/olympics.csv\") \\\n",
    ".mark_bar().encode(\n",
    "      x=alt.X('Year', type='temporal'),\n",
    "      y=alt.Y(aggregate='count', type='quantitative')\n",
    "  ).properties(\n",
    "    width=700\n",
    ")"
   ]
  },
  {
   "cell_type": "code",
   "execution_count": null,
   "metadata": {},
   "outputs": [],
   "source": [
    "# b) in Kurzform\n",
    "alt.Chart(\"https://gist.githubusercontent.com/marcosoldati/37b652aff7476c6ab77f16f4f808b243/raw/6c2125013811db238170f5dc0d728e858e40989d/olympics.csv\") \\\n",
    ".mark_bar().encode(\n",
    "      x=\"Year:T\",\n",
    "      y=\"count():Q\"\n",
    "  ).properties(\n",
    "    width=700\n",
    ")"
   ]
  }
 ],
 "metadata": {
  "kernelspec": {
   "display_name": "Python 3 (ipykernel)",
   "language": "python",
   "name": "python3"
  },
  "language_info": {
   "codemirror_mode": {
    "name": "ipython",
    "version": 3
   },
   "file_extension": ".py",
   "mimetype": "text/x-python",
   "name": "python",
   "nbconvert_exporter": "python",
   "pygments_lexer": "ipython3",
   "version": "3.8.12"
  }
 },
 "nbformat": 4,
 "nbformat_minor": 4
}
