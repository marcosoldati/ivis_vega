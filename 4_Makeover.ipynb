{
 "cells": [
  {
   "cell_type": "code",
   "execution_count": null,
   "metadata": {},
   "outputs": [],
   "source": [
    "from IPython.display import display\n",
    "import pandas as pd\n",
    "\n",
    "## for Jupyter Notebook remove the # from the following line and add # in front of all subsequent lines in this cell\n",
    "# from vega import VegaLite \n",
    "\n",
    "def Vega(spec):\n",
    "    bundle = {}\n",
    "    bundle['application/vnd.vega.v5+json'] = spec\n",
    "    display(bundle, raw=True)\n",
    "\n",
    "def VegaLite(spec):\n",
    "    bundle = {}\n",
    "    bundle['application/vnd.vegalite.v4+json'] = spec\n",
    "    display(bundle, raw=True)"
   ]
  },
  {
   "cell_type": "markdown",
   "metadata": {},
   "source": [
    "# Makeover\n",
    "\n",
    "Die Daten zum Makeover finden Sie hier: https://gist.github.com/marcosoldati/c52db0231abddfc26b1036978fb304a9"
   ]
  },
  {
   "cell_type": "code",
   "execution_count": null,
   "metadata": {},
   "outputs": [],
   "source": [
    "VegaLite({\n",
    "    \"data\": {\n",
    "        \"url\": \"https://gist.githubusercontent.com/marcosoldati/c52db0231abddfc26b1036978fb304a9/raw/0b9b220b19dc9d9a65ce4d52cccac01b39de02e1/makeover.csv\"\n",
    "    },\n",
    "    \"width\": 400,\n",
    "    \"mark\": \"point\",\n",
    "    \"encoding\": {\n",
    "        \"x\": {\n",
    "            \"field\": \"Category\",\n",
    "            \"type\": \"nominal\"\n",
    "        },\n",
    "        \"y\": {\n",
    "            \"field\": \"Performance\",\n",
    "            \"type\": \"quantitative\"\n",
    "        },\n",
    "        \"color\": {\n",
    "            \"field\": \"Company\",\n",
    "            \"type\": \"nominal\"\n",
    "        },\n",
    "        \"shape\": {\n",
    "            \"field\": \"Company\",\n",
    "            \"type\": \"nominal\"\n",
    "        }\n",
    "    }\n",
    "})"
   ]
  },
  {
   "cell_type": "code",
   "execution_count": null,
   "metadata": {},
   "outputs": [],
   "source": [
    "VegaLite({\n",
    "    \"data\": {\n",
    "        \"url\": \"https://gist.githubusercontent.com/marcosoldati/c52db0231abddfc26b1036978fb304a9/raw/0b9b220b19dc9d9a65ce4d52cccac01b39de02e1/makeover.csv\"\n",
    "    },\n",
    "    # <= Ihre Variante\n",
    "})"
   ]
  },
  {
   "cell_type": "code",
   "execution_count": null,
   "metadata": {},
   "outputs": [],
   "source": []
  }
 ],
 "metadata": {
  "kernelspec": {
   "display_name": "Python 3",
   "language": "python",
   "name": "python3"
  },
  "language_info": {
   "codemirror_mode": {
    "name": "ipython",
    "version": 3
   },
   "file_extension": ".py",
   "mimetype": "text/x-python",
   "name": "python",
   "nbconvert_exporter": "python",
   "pygments_lexer": "ipython3",
   "version": "3.8.3"
  }
 },
 "nbformat": 4,
 "nbformat_minor": 4
}
