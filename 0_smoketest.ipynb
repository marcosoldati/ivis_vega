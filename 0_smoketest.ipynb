{
 "cells": [
  {
   "cell_type": "markdown",
   "metadata": {},
   "source": [
    "# Smoketest for exercises in Informationvisualisation IVIS\n",
    "\n",
    "This test installs an verifies the proper functioning of the exercices. \n",
    "In case of any issue send me a mail (Marco Soldati at FHNW) or post a message in Teams,\n",
    "\n",
    "The test can be run\n",
    "* on mybinder.org or\n",
    "* on an Anaconda JupiterLab installation or\n",
    "* in a Python Notebook\n",
    "\n",
    "## Setup for mybinder.org\n",
    "\n",
    "Nothing to do. Skip to \"[Test Altair](#Test-Altair)\".\n",
    "\n",
    "## Setup for DeepNote.com\n",
    "\n",
    "Nothing to do. Skip to \"[Test Altair](#Test-Altair)\".\n",
    "\n",
    "\n",
    "## Setup for Anaconda\n",
    "\n",
    "### Prerequisites\n",
    "\n",
    "1. Install [Anaconda](https://www.anaconda.com/products/individual).\n",
    "2. Start Anaconda Navigator\n",
    "\n",
    "\n",
    "### JupyterLab\n",
    "\n",
    "3. Start JupyterLab\n",
    "4. Load this smoketest.ipynb\n",
    "5. Uncomment the statements in the following cell\n",
    "6. Execute smoketest.ipynb\n"
   ]
  },
  {
   "cell_type": "code",
   "execution_count": null,
   "metadata": {},
   "outputs": [],
   "source": [
    "#################################################################################\n",
    "## NOTE: This code has been tested with JupyterLab installed through Anaconda. ##\n",
    "## It may fail in other environments.                                          ##\n",
    "## Uncomment the statements (remove #)\n",
    "#################################################################################\n",
    "\n",
    "# import sys\n",
    "# !conda install --yes --prefix {sys.prefix} -c conda-forge altair vega-datasets vega\n",
    "\n",
    "# now wait until cell finished loading"
   ]
  },
  {
   "cell_type": "markdown",
   "metadata": {},
   "source": [
    "### JupyterNotebook\n",
    "\n",
    "3. Install `altair and vega-datasets` (You can uses either 'conda' or `pip` for this).\n"
   ]
  },
  {
   "cell_type": "markdown",
   "metadata": {},
   "source": [
    "# Test Altair\n",
    "\n",
    "1. Execute the following cells\n",
    "2. The response should look as follows <br/>![](https://raw.githubusercontent.com/wiki/marcosoldati/ivis/images/altair_plot.png)\n",
    "3. Get back to me if this does not work."
   ]
  },
  {
   "cell_type": "code",
   "execution_count": null,
   "metadata": {},
   "outputs": [],
   "source": [
    "import altair as alt"
   ]
  },
  {
   "cell_type": "code",
   "execution_count": null,
   "metadata": {},
   "outputs": [],
   "source": [
    "# load a simple dataset as a pandas DataFrame\n",
    "from vega_datasets import data\n",
    "cars = data.cars()"
   ]
  },
  {
   "cell_type": "code",
   "execution_count": null,
   "metadata": {},
   "outputs": [],
   "source": [
    "alt.Chart(cars).mark_bar().encode(\n",
    "    x='Horsepower',\n",
    "    y='Miles_per_Gallon',\n",
    "    color='Origin',\n",
    ").interactive()"
   ]
  },
  {
   "cell_type": "markdown",
   "metadata": {},
   "source": [
    "# Test Vega-Lite\n",
    "\n",
    "1. Execute the following 2 cells.\n",
    "2. The result should look like this:<br/>\n",
    "   ![](https://raw.githubusercontent.com/wiki/marcosoldati/ivis/images/vega_lite-plot.png)\n"
   ]
  },
  {
   "cell_type": "code",
   "execution_count": null,
   "metadata": {},
   "outputs": [],
   "source": [
    "import altair as alt"
   ]
  },
  {
   "cell_type": "code",
   "execution_count": null,
   "metadata": {},
   "outputs": [],
   "source": [
    "alt.Chart.from_dict({\n",
    "    \"$schema\": \"https://vega.github.io/schema/vega-lite/v4.json\",\n",
    "    \"data\": {\n",
    "        \"url\": \"https://gist.githubusercontent.com/marcosoldati/37b652aff7476c6ab77f16f4f808b243/raw/6c2125013811db238170f5dc0d728e858e40989d/olympics.csv\"\n",
    "    },\n",
    "    \"mark\": \"tick\",\n",
    "    \"encoding\": {      \n",
    "        \"x\": {\n",
    "            \"field\": \"Year\",\n",
    "            \"type\": \"temporal\",\n",
    "        }\n",
    "    }\n",
    "})"
   ]
  },
  {
   "cell_type": "markdown",
   "metadata": {},
   "source": [
    "# PyPlot testen\n",
    "\n",
    "Matplotlib `Pyplot` should be already installed an can be use right away. "
   ]
  },
  {
   "cell_type": "code",
   "execution_count": null,
   "metadata": {},
   "outputs": [],
   "source": [
    "import matplotlib.pyplot as plt"
   ]
  },
  {
   "cell_type": "code",
   "execution_count": null,
   "metadata": {},
   "outputs": [],
   "source": [
    "plt.plot([1, 2, 3, 4], [1, 4, 9, 16])\n",
    "plt.ylabel('some numbers')\n",
    "plt.axis([1, 4, 0, 20])\n",
    "plt.show()"
   ]
  },
  {
   "cell_type": "markdown",
   "metadata": {},
   "source": [
    "# Seaborn testen\n",
    "\n",
    "`Seaborn` bases on `matlibplot` and is already installed in most setups. Seaborn is not required for these exercises."
   ]
  },
  {
   "cell_type": "code",
   "execution_count": null,
   "metadata": {},
   "outputs": [],
   "source": [
    "import seaborn as sns"
   ]
  },
  {
   "cell_type": "code",
   "execution_count": null,
   "metadata": {},
   "outputs": [],
   "source": [
    "# Load an example dataset\n",
    "tips = sns.load_dataset(\"tips\")\n",
    "\n",
    "# Create a visualization\n",
    "sns.relplot(\n",
    "    data=tips,\n",
    "    x=\"total_bill\", y=\"tip\", col=\"time\",\n",
    "    hue=\"smoker\", style=\"smoker\", size=\"size\",\n",
    ")"
   ]
  },
  {
   "cell_type": "code",
   "execution_count": null,
   "metadata": {},
   "outputs": [],
   "source": []
  }
 ],
 "metadata": {
  "kernelspec": {
   "display_name": "Python 3 (ipykernel)",
   "language": "python",
   "name": "python3"
  },
  "language_info": {
   "codemirror_mode": {
    "name": "ipython",
    "version": 3
   },
   "file_extension": ".py",
   "mimetype": "text/x-python",
   "name": "python",
   "nbconvert_exporter": "python",
   "pygments_lexer": "ipython3",
   "version": "3.8.12"
  }
 },
 "nbformat": 4,
 "nbformat_minor": 4
}
