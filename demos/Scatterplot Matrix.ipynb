{
 "cells": [
  {
   "cell_type": "code",
   "execution_count": null,
   "metadata": {},
   "outputs": [],
   "source": [
    "import altair as alt"
   ]
  },
  {
   "cell_type": "markdown",
   "metadata": {},
   "source": [
    "# Scatterplot Matrix mit Tooltipps"
   ]
  },
  {
   "cell_type": "code",
   "execution_count": null,
   "metadata": {},
   "outputs": [],
   "source": [
    "alt.Chart.from_dict({\n",
    "    \"$schema\": \"https://vega.github.io/schema/vega-lite/v4.json\",\n",
    "    \"data\": {\n",
    "        \"url\": \"https://gist.githubusercontent.com/jonasoesch/18e76ea5584080bef5a3e19ab564a26c/raw/d9baf7cdbeb7027f579c0fe93a412d804a91e739/thoughtest_sport_by_skill.json\"\n",
    "    },\n",
    "    \"repeat\": {\n",
    "        \"column\": [\"Agility\", \"Analytical Aptitude\", \"Endurance\", \"Hand-Eye Coordination\", \"Nerve\", \"Power\"],\n",
    "        \"row\": [\"Agility\", \"Analytical Aptitude\", \"Endurance\", \"Hand-Eye Coordination\", \"Nerve\", \"Power\"]\n",
    "    },\n",
    "    \"spec\": {\n",
    "        \"width\": 100,\n",
    "        \"height\": 100,\n",
    "        \"mark\": \"point\",\n",
    "        \"encoding\": {\n",
    "            \"x\": {\n",
    "                \"field\": {\"repeat\": \"column\"},\n",
    "                \"type\": \"quantitative\"\n",
    "            },\n",
    "            \"y\": {\n",
    "                \"field\": {\"repeat\": \"row\"},\n",
    "                \"type\": \"quantitative\"\n",
    "            },\n",
    "            \"tooltip\": {\n",
    "                \"field\": \"Sport\",\n",
    "                \"type\": \"nominal\"\n",
    "            }\n",
    "        }\n",
    "    }\n",
    "})"
   ]
  },
  {
   "cell_type": "markdown",
   "metadata": {},
   "source": [
    "## Scatterplot Matrix mit Selection"
   ]
  },
  {
   "cell_type": "code",
   "execution_count": null,
   "metadata": {},
   "outputs": [],
   "source": [
    "alt.Chart.from_dict({\n",
    "    \"$schema\": \"https://vega.github.io/schema/vega-lite/v4.json\",\n",
    "    \"data\": {\n",
    "        \"url\": \"https://gist.githubusercontent.com/jonasoesch/18e76ea5584080bef5a3e19ab564a26c/raw/d9baf7cdbeb7027f579c0fe93a412d804a91e739/thoughtest_sport_by_skill.json\"\n",
    "    },\n",
    "    \"repeat\": {\n",
    "        \"column\": [\"Agility\", \"Analytical Aptitude\", \"Endurance\", \"Hand-Eye Coordination\", \"Nerve\", \"Power\"],\n",
    "        \"row\": [\"Agility\", \"Analytical Aptitude\", \"Endurance\", \"Hand-Eye Coordination\", \"Nerve\", \"Power\"]\n",
    "    },\n",
    "    \"spec\": {\n",
    "        \"width\": 100,\n",
    "        \"height\": 100,\n",
    "        \"mark\": \"circle\",\n",
    "        \"selection\": {\n",
    "          \"brush\": {\"type\": \"interval\"}\n",
    "        },\n",
    "        \"encoding\": {\n",
    "            \"x\": {\n",
    "                \"field\": {\"repeat\": \"column\"},\n",
    "                \"type\": \"quantitative\"\n",
    "            },\n",
    "            \"y\": {\n",
    "                \"field\": {\"repeat\": \"row\"},\n",
    "                \"type\": \"quantitative\"\n",
    "            },\n",
    "            \"tooltip\": {\n",
    "                \"field\": \"Sport\",\n",
    "                \"type\": \"nominal\"\n",
    "            },\n",
    "            \"opacity\": {\n",
    "                \"condition\": {\n",
    "                    \"selection\": \"brush\",\n",
    "                    \"value\": 1\n",
    "              },\n",
    "              \"value\": 0.2\n",
    "            },\n",
    "            \"color\": {\n",
    "                \"field\": \"Total\",\n",
    "                \"type\": \"quantitative\"\n",
    "            }\n",
    " \n",
    "        }\n",
    "    }\n",
    "})"
   ]
  },
  {
   "cell_type": "markdown",
   "metadata": {},
   "source": [
    "## Scatterplot Matrix mit Trendlinien"
   ]
  },
  {
   "cell_type": "code",
   "execution_count": null,
   "metadata": {},
   "outputs": [],
   "source": [
    "alt.Chart.from_dict({\n",
    "    \"$schema\": \"https://vega.github.io/schema/vega-lite/v4.json\",\n",
    "    \"data\": {\n",
    "        \"url\": \"https://gist.githubusercontent.com/jonasoesch/18e76ea5584080bef5a3e19ab564a26c/raw/d9baf7cdbeb7027f579c0fe93a412d804a91e739/thoughtest_sport_by_skill.json\"\n",
    "    },\n",
    "    \"repeat\": {\n",
    "    \"column\": [\n",
    "      \"Agility\",\n",
    "      \"Analytical Aptitude\",\n",
    "      \"Endurance\",\n",
    "      \"Hand-Eye Coordination\",\n",
    "      \"Nerve\",\n",
    "      \"Power\"\n",
    "    ],\n",
    "    \"row\": [\n",
    "      \"Agility\",\n",
    "      \"Analytical Aptitude\",\n",
    "      \"Endurance\",\n",
    "      \"Hand-Eye Coordination\",\n",
    "      \"Nerve\",\n",
    "      \"Power\"\n",
    "    ]\n",
    "  },\n",
    "  \"spec\": {\n",
    "    \"width\": 100,\n",
    "    \"height\": 100,\n",
    "    \"layer\": [{\n",
    "    \"mark\": \"point\",\n",
    "    \"encoding\": {\n",
    "      \"x\": {\"field\": {\"repeat\": \"column\"}, \"type\": \"quantitative\"},\n",
    "      \"y\": {\"field\": {\"repeat\": \"row\"}, \"type\": \"quantitative\"},\n",
    "      \"tooltip\": {\"field\": \"Sport\", \"type\": \"nominal\"}\n",
    "    }},\n",
    "    {\n",
    "      \"mark\": \"line\",\n",
    "      \"encoding\": {\n",
    "        \"x\": {\n",
    "          \"field\": {\"repeat\": \"column\"},\n",
    "          \"type\": \"quantitative\",\n",
    "          \"bin\": {\n",
    "            \"step\": 1\n",
    "          }\n",
    "        },\n",
    "        \"y\": {\n",
    "          \"aggregate\": \"mean\",\n",
    "          \"field\": {\"repeat\": \"row\"},\n",
    "          \"type\": \"quantitative\",\n",
    "        },\n",
    "        \"color\": {\"value\": \"red\"}\n",
    "      }\n",
    "    }\n",
    "    ]\n",
    "  }})"
   ]
  },
  {
   "cell_type": "code",
   "execution_count": null,
   "metadata": {},
   "outputs": [],
   "source": []
  }
 ],
 "metadata": {
  "kernelspec": {
   "display_name": "Python 3",
   "language": "python",
   "name": "python3"
  },
  "language_info": {
   "codemirror_mode": {
    "name": "ipython",
    "version": 3
   },
   "file_extension": ".py",
   "mimetype": "text/x-python",
   "name": "python",
   "nbconvert_exporter": "python",
   "pygments_lexer": "ipython3",
   "version": "3.8.3"
  }
 },
 "nbformat": 4,
 "nbformat_minor": 4
}
