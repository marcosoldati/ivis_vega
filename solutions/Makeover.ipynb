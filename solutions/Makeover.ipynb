{
 "cells": [
  {
   "cell_type": "code",
   "execution_count": null,
   "metadata": {},
   "outputs": [],
   "source": [
    "import altair as alt"
   ]
  },
  {
   "cell_type": "markdown",
   "metadata": {},
   "source": [
    "# Makeover\n",
    "\n",
    "Die Daten zum Makeover finden Sie hier: https://gist.github.com/marcosoldati/c52db0231abddfc26b1036978fb304a9"
   ]
  },
  {
   "cell_type": "code",
   "execution_count": null,
   "metadata": {},
   "outputs": [],
   "source": [
    "alt.Chart.from_dict({\n",
    "    \"$schema\": \"https://vega.github.io/schema/vega-lite/v4.json\",\n",
    "    \"data\": {\n",
    "        \"url\": \"https://gist.githubusercontent.com/marcosoldati/c52db0231abddfc26b1036978fb304a9/raw/0b9b220b19dc9d9a65ce4d52cccac01b39de02e1/makeover.csv\"\n",
    "    },\n",
    "    \"width\": 400,\n",
    "    \"mark\": \"point\",\n",
    "    \"encoding\": {\n",
    "        \"x\": {\n",
    "            \"field\": \"Category\",\n",
    "            \"type\": \"nominal\"\n",
    "        },\n",
    "        \"y\": {\n",
    "            \"field\": \"Performance\",\n",
    "            \"type\": \"quantitative\"\n",
    "        },\n",
    "        \"color\": {\n",
    "            \"field\": \"Company\",\n",
    "            \"type\": \"nominal\"\n",
    "        },\n",
    "        \"shape\": {\n",
    "            \"field\": \"Company\",\n",
    "            \"type\": \"nominal\"\n",
    "        }\n",
    "    }\n",
    "})"
   ]
  },
  {
   "cell_type": "code",
   "execution_count": null,
   "metadata": {},
   "outputs": [],
   "source": [
    "alt.Chart.from_dict({\n",
    "    \"$schema\": \"https://vega.github.io/schema/vega-lite/v4.json\",\n",
    "    \"data\": {\n",
    "        \"url\": \"https://gist.githubusercontent.com/marcosoldati/c52db0231abddfc26b1036978fb304a9/raw/0b9b220b19dc9d9a65ce4d52cccac01b39de02e1/makeover.csv\"\n",
    "    },\n",
    "    \"facet\": {\"row\": {\"field\": \"Category\", \"type\": \"nominal\"}},\n",
    "    \"spec\": {\n",
    "        \"width\": 400,\n",
    "        \"mark\": \"bar\",\n",
    "        \"encoding\": {\n",
    "          \"x\": {\"field\": \"Performance\", \"type\": \"quantitative\"},\n",
    "          \"y\": {\"field\": \"Company\", \"type\": \"nominal\", \"sort\": \"descending\"},\n",
    "          \"color\": {\n",
    "            \"condition\": {\n",
    "              \"test\": \"datum.Company == 'Our Business'\",\n",
    "              \"value\": \"blue\"\n",
    "            },\n",
    "            \"value\": \"grey\"\n",
    "          }\n",
    "        }\n",
    "    }\n",
    "})"
   ]
  },
  {
   "cell_type": "code",
   "execution_count": null,
   "metadata": {},
   "outputs": [],
   "source": []
  }
 ],
 "metadata": {
  "kernelspec": {
   "display_name": "Python 3",
   "language": "python",
   "name": "python3"
  },
  "language_info": {
   "codemirror_mode": {
    "name": "ipython",
    "version": 3
   },
   "file_extension": ".py",
   "mimetype": "text/x-python",
   "name": "python",
   "nbconvert_exporter": "python",
   "pygments_lexer": "ipython3",
   "version": "3.8.3"
  }
 },
 "nbformat": 4,
 "nbformat_minor": 4
}
