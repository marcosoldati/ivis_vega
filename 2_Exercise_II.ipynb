{
 "cells": [
  {
   "cell_type": "code",
   "execution_count": null,
   "metadata": {},
   "outputs": [],
   "source": [
    "## for Jupyter Notebook remove the # from the following line and add # in front of all subsequent lines in this cell\n",
    "# from vega import VegaLite \n",
    "\n",
    "## For JupyterLab uncomment the following lines\n",
    "from IPython.display import display\n",
    "def VegaLite(spec):\n",
    "    bundle = {}\n",
    "    bundle['application/vnd.vegalite.v3+json'] = spec\n",
    "    display(bundle, raw=True)"
   ]
  },
  {
   "cell_type": "markdown",
   "metadata": {},
   "source": [
    "## 5. Gender-Gap?\n",
    "\n",
    "Übernehmen Sie die Visualisierung aus Übung 4 und stellen Sie nun im `color`-Channel dar, wie viele Medaillen von Frauen und wie viele von Männern gewonnen wurden."
   ]
  },
  {
   "cell_type": "code",
   "execution_count": null,
   "metadata": {},
   "outputs": [],
   "source": [
    "VegaLite({\n",
    "    \"data\": {\n",
    "        \"url\": \"https://gist.githubusercontent.com/marcosoldati/37b652aff7476c6ab77f16f4f808b243/raw/6c2125013811db238170f5dc0d728e858e40989d/olympics.csv\"\n",
    "    },\n",
    "    \"mark\": \"bar\",\n",
    "    \"width\": 700,\n",
    "    \"encoding\": {\n",
    "        \"x\": {\n",
    "            \"field\": \"Year\",\n",
    "            \"type\": \"temporal\",\n",
    "            \"timeUnit\": \"year\",\n",
    "        },\n",
    "        \"y\": {\n",
    "            \"aggregate\": \"count\",\n",
    "            \"type\": \"quantitative\"\n",
    "        },\n",
    "        # <= Geschlecht im Color-Channel\n",
    "    }\n",
    "})"
   ]
  },
  {
   "cell_type": "markdown",
   "metadata": {},
   "source": [
    "## 6. Disziplinen\n",
    "\n",
    "Welche Disziplinen wurden in welchem Jahr an den Olympischen Spielen ausgezeichnet? Erstellen sie einen Scatterplot mit dem `mark` `circle` in dem Sie die Disziplinen nach Jahren aufführen."
   ]
  },
  {
   "cell_type": "code",
   "execution_count": null,
   "metadata": {},
   "outputs": [],
   "source": [
    "VegaLite({\n",
    "    \"data\": {\n",
    "        \"url\": \"https://gist.githubusercontent.com/marcosoldati/37b652aff7476c6ab77f16f4f808b243/raw/6c2125013811db238170f5dc0d728e858e40989d/olympics.csv\"\n",
    "    },\n",
    "    \"mark\": \"\", # <= Scatterplot\n",
    "    \"width\": 700,\n",
    "    \"encoding\": {\n",
    "        \"x\": {\n",
    "            # <= Jahre\n",
    "        },\n",
    "        \"y\": {\n",
    "            # <= Disziplinen\n",
    "        }\n",
    "    }\n",
    "})"
   ]
  },
  {
   "cell_type": "markdown",
   "metadata": {},
   "source": [
    "## 7. Disziplinen mit den meisten Medaillen\n",
    "\n",
    "Visualisieren Sie nun, in welchen Disziplinen am meisten Medaillen vergeben werden und in welchen am wenigsten. Verwenden Sie dazu den `size`-Channel. Sie brauchen wieder eine Datentransformation um die Einträge zu zählen. Wie bei der Übung \"Medaillen\"."
   ]
  },
  {
   "cell_type": "code",
   "execution_count": null,
   "metadata": {},
   "outputs": [],
   "source": [
    "VegaLite({\n",
    "    \"data\": {\n",
    "        \"url\": \"https://gist.githubusercontent.com/marcosoldati/37b652aff7476c6ab77f16f4f808b243/raw/6c2125013811db238170f5dc0d728e858e40989d/olympics.csv\"\n",
    "    },\n",
    "    \"mark\": \"circle\",\n",
    "    \"width\": 700,\n",
    "    \"encoding\": {\n",
    "        \"x\": {\n",
    "            \"field\": \"Year\",\n",
    "            \"type\": \"temporal\",\n",
    "        },\n",
    "        \"y\": {\n",
    "            \"field\": \"Discipline\",\n",
    "            \"type\": \"nominal\"\n",
    "        },\n",
    "        # <= Anzahl der Medaillen durch die Grösse eines Punktes darstellen\n",
    "    }\n",
    "})"
   ]
  },
  {
   "cell_type": "markdown",
   "metadata": {},
   "source": [
    "## 8. Makeover 2\n",
    "\n",
    "Wie liessen sich die die Disziplinen mit den meisten Medaillen nach Jahr mit den bisherigen Mitteln auch anders darstellen? Was sind die Vor- und Nachteile der beiden Visualisierungsarten?"
   ]
  },
  {
   "cell_type": "code",
   "execution_count": null,
   "metadata": {},
   "outputs": [],
   "source": [
    "VegaLite({\n",
    "    \"data\": {\n",
    "        \"url\": \"https://gist.githubusercontent.com/marcosoldati/37b652aff7476c6ab77f16f4f808b243/raw/6c2125013811db238170f5dc0d728e858e40989d/olympics.csv\"\n",
    "    },\n",
    "    \"mark\": \"\", # <= Alternative?\n",
    "    \"width\": 700,\n",
    "    \"encoding\": {\n",
    "        # <= Alternative?\n",
    "    }\n",
    "})"
   ]
  },
  {
   "cell_type": "code",
   "execution_count": null,
   "metadata": {},
   "outputs": [],
   "source": []
  }
 ],
 "metadata": {
  "kernelspec": {
   "display_name": "Python 3",
   "language": "python",
   "name": "python3"
  },
  "language_info": {
   "codemirror_mode": {
    "name": "ipython",
    "version": 3
   },
   "file_extension": ".py",
   "mimetype": "text/x-python",
   "name": "python",
   "nbconvert_exporter": "python",
   "pygments_lexer": "ipython3",
   "version": "3.8.3"
  }
 },
 "nbformat": 4,
 "nbformat_minor": 4
}
